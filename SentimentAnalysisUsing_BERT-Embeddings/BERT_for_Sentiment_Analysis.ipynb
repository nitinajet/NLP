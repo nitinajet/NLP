{
  "nbformat": 4,
  "nbformat_minor": 0,
  "metadata": {
    "kernelspec": {
      "name": "python3",
      "display_name": "Python 3"
    },
    "language_info": {
      "codemirror_mode": {
        "name": "ipython",
        "version": 3
      },
      "file_extension": ".py",
      "mimetype": "text/x-python",
      "name": "python",
      "nbconvert_exporter": "python",
      "pygments_lexer": "ipython3",
      "version": "3.7.1"
    },
    "colab": {
      "name": "BERT-for-Sentiment-Analysis.ipynb",
      "provenance": [],
      "collapsed_sections": [],
      "machine_shape": "hm"
    },
    "accelerator": "TPU"
  },
  "cells": [
    {
      "cell_type": "code",
      "metadata": {
        "id": "1BUzDAjOAIYB",
        "colab_type": "code",
        "colab": {}
      },
      "source": [
        "!pip install transformers"
      ],
      "execution_count": 0,
      "outputs": []
    },
    {
      "cell_type": "code",
      "metadata": {
        "id": "2Z9nbmF-_rSS",
        "colab_type": "code",
        "colab": {}
      },
      "source": [
        "import numpy as np\n",
        "import pandas as pd\n",
        "import torch\n",
        "import transformers as ppb # pytorch transformers\n",
        "from sklearn.linear_model import LogisticRegression\n",
        "from sklearn.model_selection import cross_val_score\n",
        "from sklearn.model_selection import train_test_split"
      ],
      "execution_count": 0,
      "outputs": []
    },
    {
      "cell_type": "code",
      "metadata": {
        "id": "K9_AMtsf_rSZ",
        "colab_type": "code",
        "colab": {
          "base_uri": "https://localhost:8080/",
          "height": 204
        },
        "outputId": "a8761a4f-1bf3-49b0-8018-fdf5a23922e9"
      },
      "source": [
        "df = pd.read_csv('https://github.com/clairett/pytorch-sentiment-classification/raw/master/data/SST2/train.tsv', delimiter='\\t', header=None)\n",
        "df.head()\n"
      ],
      "execution_count": 3,
      "outputs": [
        {
          "output_type": "execute_result",
          "data": {
            "text/html": [
              "<div>\n",
              "<style scoped>\n",
              "    .dataframe tbody tr th:only-of-type {\n",
              "        vertical-align: middle;\n",
              "    }\n",
              "\n",
              "    .dataframe tbody tr th {\n",
              "        vertical-align: top;\n",
              "    }\n",
              "\n",
              "    .dataframe thead th {\n",
              "        text-align: right;\n",
              "    }\n",
              "</style>\n",
              "<table border=\"1\" class=\"dataframe\">\n",
              "  <thead>\n",
              "    <tr style=\"text-align: right;\">\n",
              "      <th></th>\n",
              "      <th>0</th>\n",
              "      <th>1</th>\n",
              "    </tr>\n",
              "  </thead>\n",
              "  <tbody>\n",
              "    <tr>\n",
              "      <th>0</th>\n",
              "      <td>a stirring , funny and finally transporting re...</td>\n",
              "      <td>1</td>\n",
              "    </tr>\n",
              "    <tr>\n",
              "      <th>1</th>\n",
              "      <td>apparently reassembled from the cutting room f...</td>\n",
              "      <td>0</td>\n",
              "    </tr>\n",
              "    <tr>\n",
              "      <th>2</th>\n",
              "      <td>they presume their audience wo n't sit still f...</td>\n",
              "      <td>0</td>\n",
              "    </tr>\n",
              "    <tr>\n",
              "      <th>3</th>\n",
              "      <td>this is a visually stunning rumination on love...</td>\n",
              "      <td>1</td>\n",
              "    </tr>\n",
              "    <tr>\n",
              "      <th>4</th>\n",
              "      <td>jonathan parker 's bartleby should have been t...</td>\n",
              "      <td>1</td>\n",
              "    </tr>\n",
              "  </tbody>\n",
              "</table>\n",
              "</div>"
            ],
            "text/plain": [
              "                                                   0  1\n",
              "0  a stirring , funny and finally transporting re...  1\n",
              "1  apparently reassembled from the cutting room f...  0\n",
              "2  they presume their audience wo n't sit still f...  0\n",
              "3  this is a visually stunning rumination on love...  1\n",
              "4  jonathan parker 's bartleby should have been t...  1"
            ]
          },
          "metadata": {
            "tags": []
          },
          "execution_count": 3
        }
      ]
    },
    {
      "cell_type": "markdown",
      "metadata": {
        "id": "lVDS_07slqNh",
        "colab_type": "text"
      },
      "source": [
        "**Data Pre-processing (Raw data --> Features)**"
      ]
    },
    {
      "cell_type": "code",
      "metadata": {
        "id": "y9YAJmJv_zI6",
        "colab_type": "code",
        "colab": {}
      },
      "source": [
        "#Utility functions\n",
        "\n",
        "def tokenize_sentence(sentence):\n",
        "  tokenized = tokenizer.encode(review, add_special_tokens=True)\n",
        "  return tokenized\n",
        "\n",
        "def max_len_for_padding(tokenized_sentences):\n",
        "  max_len = 0\n",
        "  for i in range(len(tokenized_sentences)):\n",
        "      if len(tokenized_sentences[i])>max_len:\n",
        "          max_len = len(tokenized_sentences[i])\n",
        "  return max_len\n",
        "\n",
        "def padding_tokenized_sentences(tokenized_sentences):\n",
        "  max_len = max_len_for_padding(tokenized_sentences)\n",
        "  padded = np.array([token_sent + [0]*(max_len-len(token_sent)) for token_sent in tokenized_sentences])\n",
        "  padded = np.array(padded)\n",
        "  padded = np.reshape(padded,(len(tokenized_sentences),max_len))\n",
        "  attention_mask = np.where(padded != 0, 1, 0)\n",
        "  return padded,attention_mask\n",
        "\n",
        "\n",
        "def get_features(padded,attention_mask,model):\n",
        "  input_ids = torch.tensor(padded)  \n",
        "  attention_mask = torch.tensor(attention_mask)\n",
        "\n",
        "  with torch.no_grad():\n",
        "      last_hidden_states = model(input_ids, attention_mask=attention_mask)\n",
        "  features = last_hidden_states[0][:,0,:].numpy()\n",
        "  return features"
      ],
      "execution_count": 0,
      "outputs": []
    },
    {
      "cell_type": "code",
      "metadata": {
        "id": "U90A6gCz_zL8",
        "colab_type": "code",
        "colab": {
          "base_uri": "https://localhost:8080/",
          "height": 68
        },
        "outputId": "4b189c0f-611a-4ea3-f131-0f33b4800a23"
      },
      "source": [
        "# Pretrained Model\n",
        "model_class, tokenizer_class, pretrained_weights = (ppb.BertModel,ppb.BertTokenizer,'bert-base-uncased')\n",
        "#model_class, tokenizer_class, pretrained_weights = (ppb.DistilBertModel, ppb.DistilBertTokenizer, 'distilbert-base-uncased')\n",
        "# Load pretrained model/tokenizer\n",
        "tokenizer = tokenizer_class.from_pretrained(pretrained_weights)\n",
        "model = model_class.from_pretrained(pretrained_weights)\n",
        "\n",
        "\n",
        "# Pre-processing\n",
        "tokenized_sentences = []\n",
        "\n",
        "for review in df[0][:2000]: #training on 2000 sentences only due to performance issues\n",
        "  tokenized_sentences.append(tokenize_sentence(review))\n",
        "\n",
        "max_len = max_len_for_padding(tokenized_sentences)\n",
        "print(len(tokenized_sentences))\n",
        "\n",
        "padded,attention_mask = padding_tokenized_sentences(tokenized_sentences)\n",
        "print(padded.shape,attention_mask.shape)\n",
        "\n",
        "features = get_features(padded,attention_mask,model)\n",
        "print(features.shape)\n"
      ],
      "execution_count": 5,
      "outputs": [
        {
          "output_type": "stream",
          "text": [
            "2000\n",
            "(2000, 59) (2000, 59)\n",
            "(2000, 768)\n"
          ],
          "name": "stdout"
        }
      ]
    },
    {
      "cell_type": "markdown",
      "metadata": {
        "id": "N-DJ8DFOl9GN",
        "colab_type": "text"
      },
      "source": [
        "**Classification Algorithm - Sckit-learn**\n"
      ]
    },
    {
      "cell_type": "code",
      "metadata": {
        "id": "Xc70GMHNCf_N",
        "colab_type": "code",
        "colab": {
          "base_uri": "https://localhost:8080/",
          "height": 88
        },
        "outputId": "1cf1f17f-faaf-47fc-ceb5-3c5660aa8703"
      },
      "source": [
        "labels = df[1][:2000] # target variable for the reviews in the dataset\n",
        "train_features, test_features, train_labels, test_labels = train_test_split(features, labels)\n",
        "lr_clf = LogisticRegression()\n",
        "lr_clf.fit(train_features, train_labels)\n",
        "lr_clf.score(test_features, test_labels)"
      ],
      "execution_count": 6,
      "outputs": [
        {
          "output_type": "stream",
          "text": [
            "/usr/local/lib/python3.6/dist-packages/sklearn/linear_model/logistic.py:432: FutureWarning: Default solver will be changed to 'lbfgs' in 0.22. Specify a solver to silence this warning.\n",
            "  FutureWarning)\n"
          ],
          "name": "stderr"
        },
        {
          "output_type": "execute_result",
          "data": {
            "text/plain": [
              "0.842"
            ]
          },
          "metadata": {
            "tags": []
          },
          "execution_count": 6
        }
      ]
    },
    {
      "cell_type": "markdown",
      "metadata": {
        "id": "nBxXa3blyuOT",
        "colab_type": "text"
      },
      "source": [
        "##**Predict the Sentiment**\n",
        "\n",
        "\n"
      ]
    },
    {
      "cell_type": "code",
      "metadata": {
        "id": "OOQNhdOm2Mky",
        "colab_type": "code",
        "colab": {}
      },
      "source": [
        "def feature_extraction(review):\n",
        "  tokenized = tokenizer.encode(review, add_special_tokens=True)\n",
        "  padded = np.array(tokenized + [0]*(max_len-len(tokenized)))\n",
        "  padded = np.array(padded)\n",
        "  padded = np.reshape(padded,(1,max_len))\n",
        "  attention_mask = np.where(padded != 0, 1, 0)\n",
        "  input_ids = torch.tensor(padded)  \n",
        "  attention_mask = torch.tensor(attention_mask)\n",
        "\n",
        "  with torch.no_grad():\n",
        "      last_hidden_states = model(input_ids, attention_mask=attention_mask)\n",
        "  features = last_hidden_states[0][:,0,:].numpy()\n",
        "  return features\n",
        "\n",
        "def predict_sentiment(review,model):\n",
        "  features = feature_extraction(review)\n",
        "  prediction = model.predict(features)\n",
        "  if prediction[0]== 1:\n",
        "    return 'Positive'\n",
        "  else:\n",
        "    return 'Negative'\n"
      ],
      "execution_count": 0,
      "outputs": []
    },
    {
      "cell_type": "code",
      "metadata": {
        "id": "9NlwzY_s2Mnn",
        "colab_type": "code",
        "colab": {
          "base_uri": "https://localhost:8080/",
          "height": 34
        },
        "outputId": "8582cf3c-1b25-4641-8074-37442b1271a3"
      },
      "source": [
        "review= \"I'm glad that I have watched this movie\"\n",
        "sentiment = predict_sentiment(review,lr_clf)\n",
        "print(sentiment)"
      ],
      "execution_count": 8,
      "outputs": [
        {
          "output_type": "stream",
          "text": [
            "Positive\n"
          ],
          "name": "stdout"
        }
      ]
    },
    {
      "cell_type": "code",
      "metadata": {
        "id": "zGAF_W9Ho5ek",
        "colab_type": "code",
        "colab": {
          "base_uri": "https://localhost:8080/",
          "height": 34
        },
        "outputId": "a9fc9a44-37e2-4dcc-df14-58ecda3b536e"
      },
      "source": [
        "review= \"I'm glad that I haven't watched this movie\"\n",
        "sentiment = predict_sentiment(review,lr_clf)\n",
        "print(sentiment)"
      ],
      "execution_count": 9,
      "outputs": [
        {
          "output_type": "stream",
          "text": [
            "Negative\n"
          ],
          "name": "stdout"
        }
      ]
    }
  ]
}